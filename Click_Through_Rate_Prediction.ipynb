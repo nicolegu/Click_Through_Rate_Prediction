{
 "cells": [
  {
   "cell_type": "code",
   "execution_count": null,
   "metadata": {},
   "outputs": [],
   "source": [
    "import pandas as pd\n",
    "import numpy as np\n",
    "import dask.dataframe as dask_data\n",
    "\n",
    "import matplotlib\n",
    "import matplotlib.pyplot as plt\n",
    "import seaborn as sns\n",
    "import plotly.graph_objs as go\n",
    "from plotly.offline import init_notebook_mode, iplot\n",
    "\n"
   ]
  },
  {
   "cell_type": "code",
   "execution_count": null,
   "metadata": {},
   "outputs": [],
   "source": [
    "# Load data\n",
    "\n",
    "def parse_date(date):\n",
    "    return pd.to_datetime(date, format = '%y%m%d%H')\n",
    "\n",
    "train_data = pd.read_csv('Data/train',\n",
    "                         parse_dates = ['hour'],\n",
    "                         date_format = '%y%m%d%H')\n",
    "                         #nrows = 20000)\n",
    "\n",
    "train_data.tail(20)"
   ]
  },
  {
   "cell_type": "code",
   "execution_count": null,
   "metadata": {},
   "outputs": [],
   "source": [
    "train_data.describe()"
   ]
  },
  {
   "cell_type": "markdown",
   "metadata": {},
   "source": [
    "Data EDA"
   ]
  },
  {
   "cell_type": "code",
   "execution_count": null,
   "metadata": {},
   "outputs": [],
   "source": [
    "# Click v/s No Click distribution\n",
    "\n",
    "train_data.groupby('click').size().plot(kind = 'bar')\n",
    "rows = train_data.shape[0]\n",
    "click_through_rate = train_data['click'].value_counts()/rows\n",
    "click_through_rate"
   ]
  },
  {
   "cell_type": "code",
   "execution_count": null,
   "metadata": {},
   "outputs": [],
   "source": [
    "train_data['hour'].describe()"
   ]
  },
  {
   "cell_type": "code",
   "execution_count": null,
   "metadata": {},
   "outputs": [],
   "source": [
    "# banner position\n",
    "\n",
    "train_data['banner_pos'].unique()"
   ]
  },
  {
   "cell_type": "code",
   "execution_count": null,
   "metadata": {},
   "outputs": [],
   "source": [
    "# banner position & click relation\n",
    "\n",
    "banner_temp = train_data[['banner_pos', 'click']].groupby(['banner_pos', 'click'])\n",
    "\n",
    "banner_temp.size().unstack().plot(kind = 'bar', stacked = True, title = 'Banner Position')"
   ]
  },
  {
   "cell_type": "code",
   "execution_count": null,
   "metadata": {},
   "outputs": [],
   "source": [
    "train_data[['banner_pos', 'click']].groupby(['banner_pos']).count().sort_values('click', ascending = False)"
   ]
  },
  {
   "cell_type": "code",
   "execution_count": null,
   "metadata": {},
   "outputs": [],
   "source": [
    "train_data_click = train_data[train_data['click'] == 1]"
   ]
  },
  {
   "cell_type": "code",
   "execution_count": null,
   "metadata": {},
   "outputs": [],
   "source": [
    "banner_df = pd.DataFrame()\n",
    "banner_df['position'] = train_data_click[['banner_pos', 'click']].groupby(['banner_pos']).count().reset_index().sort_values('click', ascending=False)['banner_pos']\n",
    "banner_df['pos_clicks'] = train_data_click[['banner_pos', 'click']].groupby(['banner_pos']).count().reset_index().sort_values('click', ascending=False)['click']\n",
    "banner_df['total_impression'] = train_data[['banner_pos', 'click']].groupby(['banner_pos']).count().reset_index().sort_values('click', ascending=False)['click']\n",
    "banner_df['click_pct'] = 100 * banner_df['pos_clicks'] / banner_df['total_impression']\n",
    "banner_df"
   ]
  },
  {
   "cell_type": "code",
   "execution_count": null,
   "metadata": {},
   "outputs": [],
   "source": [
    "banner_df.sort_values(ascending = False, by = 'click_pct')"
   ]
  },
  {
   "cell_type": "code",
   "execution_count": null,
   "metadata": {},
   "outputs": [],
   "source": [
    "device_temp = train_data[['device_type', 'click']].groupby(['device_type', 'click'])\n",
    "device_temp.size().unstack().plot(kind = 'bar', stacked = True, title = 'Device Type')"
   ]
  }
 ],
 "metadata": {
  "kernelspec": {
   "display_name": "base",
   "language": "python",
   "name": "python3"
  },
  "language_info": {
   "codemirror_mode": {
    "name": "ipython",
    "version": 3
   },
   "file_extension": ".py",
   "mimetype": "text/x-python",
   "name": "python",
   "nbconvert_exporter": "python",
   "pygments_lexer": "ipython3",
   "version": "3.11.8"
  }
 },
 "nbformat": 4,
 "nbformat_minor": 2
}
